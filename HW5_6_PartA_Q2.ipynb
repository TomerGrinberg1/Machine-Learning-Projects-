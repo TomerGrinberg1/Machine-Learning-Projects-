{
  "nbformat": 4,
  "nbformat_minor": 0,
  "metadata": {
    "colab": {
      "provenance": []
    },
    "kernelspec": {
      "name": "python3",
      "display_name": "Python 3"
    },
    "language_info": {
      "name": "python"
    }
  },
  "cells": [
    {
      "cell_type": "code",
      "execution_count": 22,
      "metadata": {
        "id": "LuZvHmIQOVpo"
      },
      "outputs": [],
      "source": [
        "import numpy as np \n",
        "import pandas as pd \n",
        "from sklearn.model_selection import train_test_split\n",
        "from sklearn.tree import DecisionTreeClassifier \n",
        "from sklearn.ensemble import RandomForestClassifier\n",
        "from sklearn.metrics import accuracy_score\n",
        "import matplotlib.pyplot as plt"
      ]
    },
    {
      "cell_type": "code",
      "source": [
        "df = pd.read_csv(\"winequality-red.csv\", delimiter = \";\", header = 0)\n",
        "df[\"quality\"]=df[\"quality\"].apply(lambda x: 0 if x>5  else 1)\n",
        "X=df.drop(columns=\"quality\")\n",
        "y=df[\"quality\"]\n",
        "X_train, X_test, y_train, y_test = train_test_split(X, y, test_size=0.40, random_state=42)"
      ],
      "metadata": {
        "id": "jAg69kZzOuGs"
      },
      "execution_count": 23,
      "outputs": []
    },
    {
      "cell_type": "markdown",
      "source": [
        "#א"
      ],
      "metadata": {
        "id": "vMHi7KxtRYsU"
      }
    },
    {
      "cell_type": "code",
      "source": [
        "dt = DecisionTreeClassifier(max_depth = 12, random_state = 0)\n",
        "dt = dt.fit(X_train,y_train)\n",
        "y_train_pred = dt.predict(X_train)\n",
        "y_test_pred = dt.predict(X_test)\n",
        "print(f\"Accuracy of the training set: \",accuracy_score(y_train, y_train_pred))\n",
        "print(f\"Accuracy of the test set: \",accuracy_score(y_test, y_test_pred))"
      ],
      "metadata": {
        "colab": {
          "base_uri": "https://localhost:8080/"
        },
        "id": "e7O-bYTRRWTm",
        "outputId": "284d6da0-8417-487e-de6c-34f2c34f89cb"
      },
      "execution_count": 24,
      "outputs": [
        {
          "output_type": "stream",
          "name": "stdout",
          "text": [
            "Accuracy of the training set:  0.9895724713242962\n",
            "Accuracy of the test set:  0.728125\n"
          ]
        }
      ]
    },
    {
      "cell_type": "markdown",
      "source": [
        "#ב"
      ],
      "metadata": {
        "id": "cNbEeTTbWCQS"
      }
    },
    {
      "cell_type": "code",
      "source": [
        "rf = RandomForestClassifier(n_estimators = 100, max_depth = 12, random_state = 0)\n",
        "rf = rf.fit(X_train,y_train)\n",
        "y_train_pred = rf.predict(X_train)\n",
        "y_test_pred = rf.predict(X_test)\n",
        "print(\"Train accuracy:\" ,accuracy_score(y_train, y_train_pred))\n",
        "print(\"Test Accuracy:\",accuracy_score(y_test, y_test_pred ))\n",
        "accuarcy_tests = []\n",
        "for i in range(1,101):\n",
        "  rf = RandomForestClassifier(n_estimators = i, max_depth = 12, random_state = 0)\n",
        "  rf = rf.fit(X_train,y_train)\n",
        "  y_pred_test = rf.predict(X_test)\n",
        "  accuarcy_tests.append(accuracy_score(y_test, y_pred_test))\n",
        "plt.plot(accuarcy_tests)\n",
        "plt.xlabel(\"number of estimators\")\n",
        "plt.ylabel(\"accuracy\")\n",
        "plt.title(\"Accuracy per number of estimators\")\n",
        "plt.show()\n"
      ],
      "metadata": {
        "colab": {
          "base_uri": "https://localhost:8080/",
          "height": 330
        },
        "id": "K3Ru39WlWBs4",
        "outputId": "71a96b23-1785-4d2a-ca9b-7fb795dfdd70"
      },
      "execution_count": 25,
      "outputs": [
        {
          "output_type": "stream",
          "name": "stdout",
          "text": [
            "Train accuracy: 0.9989572471324296\n",
            "Test Accuracy: 0.8015625\n"
          ]
        },
        {
          "output_type": "display_data",
          "data": {
            "text/plain": [
              "<Figure size 432x288 with 1 Axes>"
            ],
            "image/png": "[encoded data removed]"
          },
          "metadata": {
            "needs_background": "light"
          }
        }
      ]
    },
    {
      "cell_type": "markdown",
      "source": [
        "#ג"
      ],
      "metadata": {
        "id": "QLSEZbI-YjWd"
      }
    },
    {
      "cell_type": "code",
      "source": [
        "num_features=np.shape(X_train)[1]\n",
        "rf = RandomForestClassifier(n_estimators = 100, max_depth = 12, random_state = 0, max_features=num_features)\n",
        "rf = rf.fit(X_train,y_train)\n",
        "y_train_pred = rf.predict(X_train)\n",
        "y_test_pred = rf.predict(X_test)\n",
        "print(\"Train accuracy:\" ,accuracy_score(y_train, y_train_pred))\n",
        "print(\"Test Accuracy:\",accuracy_score(y_test, y_test_pred ))\n",
        "accuarcy_tests = []\n",
        "for i in range(1,101):\n",
        "  rf = RandomForestClassifier(n_estimators = i, max_depth = 12, random_state = 0)\n",
        "  rf = rf.fit(X_train,y_train)\n",
        "  y_pred_test = rf.predict(X_test)\n",
        "  accuarcy_tests.append(accuracy_score(y_test, y_pred_test))\n",
        "plt.plot(accuarcy_tests)\n",
        "plt.xlabel(\"number of estimators\")\n",
        "plt.ylabel(\"accuracy\")\n",
        "plt.title(\"Accuracy per number of estimators\")\n",
        "plt.show()\n"
      ],
      "metadata": {
        "colab": {
          "base_uri": "https://localhost:8080/",
          "height": 330
        },
        "id": "aDmGSfqxYkN6",
        "outputId": "2281877b-de51-4dd0-94ce-038a237e00fc"
      },
      "execution_count": 26,
      "outputs": [
        {
          "output_type": "stream",
          "name": "stdout",
          "text": [
            "Train accuracy: 0.9989572471324296\n",
            "Test Accuracy: 0.7859375\n"
          ]
        },
        {
          "output_type": "display_data",
          "data": {
            "text/plain": [
              "<Figure size 432x288 with 1 Axes>"
            ],
            "image/png": "[encoded data removed]"
          },
          "metadata": {
            "needs_background": "light"
          }
        }
      ]
    },
    {
      "cell_type": "markdown",
      "source": [
        "#ד"
      ],
      "metadata": {
        "id": "x9vDI-EQdr9z"
      }
    },
    {
      "cell_type": "markdown",
      "source": [
        "##a"
      ],
      "metadata": {
        "id": "dY-ELIuFdt35"
      }
    },
    {
      "cell_type": "markdown",
      "source": [
        "<div dir=\"rtl\">\n",
        "\n",
        "\n",
        "המודל של סעיף ב' (Random Forest) טוב יותר מהמודל בסעיף א' (עץ החלטה). \n",
        "\n",
        "\n",
        "מכיוון שבמודל זה אנו משתמשים ב 100 עצים במקום בעץ אחד בודד(סעיף א')\n",
        "בנוסף מודל הRandom Forest פחות רגיש ל-overfitting מאשר עץ בודד, לכן שגיאת ההכללה שלו טובה יותר\n",
        "</div>"
      ],
      "metadata": {
        "id": "GWekIh7jc9Kg"
      }
    },
    {
      "cell_type": "markdown",
      "source": [
        "##b"
      ],
      "metadata": {
        "id": "3W0hg4eifAWH"
      }
    },
    {
      "cell_type": "markdown",
      "source": [
        "<div dir=\"rtl\">\n",
        "\n",
        "\n",
        "השינוי שנעשה בסעיף ג' נתן ביצועים פחות טובים בהשוואה לRandom Forest  הרגיל מסעיף ב'.\n",
        "\n",
        "הסיבה לכך היא שעל ידי שימוש בכל הפיצ'רים(וביטול אקראיות) העצים נהים יותר דומים זה לזה וכך אנו מאבדים את הככלה שנותן לנו האלגוריתם של Random Forest ואנו נוטים לעשות overfitting,\n",
        "\n",
        "בשונה ממודל הRandom Forest  הרגיל  בו הבחירה האקראית של הפיצ'רים בכל פיצול גורמת שהעצים יהיו שונים זה מזה (מקטינה את הקורלציה ביניהם) וכתוצאה מכך המודל מכליל בצורה טובה יותר\n",
        "</div>"
      ],
      "metadata": {
        "id": "Jqe38T9QfBmG"
      }
    }
  ]
}